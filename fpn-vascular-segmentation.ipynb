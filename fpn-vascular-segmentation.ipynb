{
 "cells": [
  {
   "cell_type": "markdown",
   "id": "f97160f6",
   "metadata": {
    "papermill": {
     "duration": 0.006027,
     "end_time": "2024-04-07T23:09:41.359851",
     "exception": false,
     "start_time": "2024-04-07T23:09:41.353824",
     "status": "completed"
    },
    "tags": []
   },
   "source": [
    "# Import"
   ]
  },
  {
   "cell_type": "code",
   "execution_count": 1,
   "id": "b2f907bf",
   "metadata": {
    "execution": {
     "iopub.execute_input": "2024-04-07T23:09:41.372029Z",
     "iopub.status.busy": "2024-04-07T23:09:41.371709Z",
     "iopub.status.idle": "2024-04-07T23:09:41.381785Z",
     "shell.execute_reply": "2024-04-07T23:09:41.380945Z"
    },
    "papermill": {
     "duration": 0.018393,
     "end_time": "2024-04-07T23:09:41.383723",
     "exception": false,
     "start_time": "2024-04-07T23:09:41.365330",
     "status": "completed"
    },
    "tags": []
   },
   "outputs": [],
   "source": [
    "#certificate verification (needed for segmentatin_models_pytorch library to work)\n",
    "import ssl\n",
    "ssl._create_default_https_context = ssl._create_unverified_context"
   ]
  },
  {
   "cell_type": "code",
   "execution_count": 2,
   "id": "7dabf683",
   "metadata": {
    "_cell_guid": "b1076dfc-b9ad-4769-8c92-a6c4dae69d19",
    "_kg_hide-input": true,
    "_kg_hide-output": true,
    "_uuid": "8f2839f25d086af736a60e9eeb907d3b93b6e0e5",
    "execution": {
     "iopub.execute_input": "2024-04-07T23:09:41.395521Z",
     "iopub.status.busy": "2024-04-07T23:09:41.395265Z",
     "iopub.status.idle": "2024-04-07T23:10:10.487014Z",
     "shell.execute_reply": "2024-04-07T23:10:10.486181Z"
    },
    "papermill": {
     "duration": 29.100316,
     "end_time": "2024-04-07T23:10:10.489419",
     "exception": false,
     "start_time": "2024-04-07T23:09:41.389103",
     "status": "completed"
    },
    "tags": []
   },
   "outputs": [
    {
     "name": "stderr",
     "output_type": "stream",
     "text": [
      "/opt/conda/lib/python3.10/site-packages/scipy/__init__.py:146: UserWarning: A NumPy version >=1.16.5 and <1.23.0 is required for this version of SciPy (detected version 1.24.3\n",
      "  warnings.warn(f\"A NumPy version >={np_minversion} and <{np_maxversion}\"\n"
     ]
    },
    {
     "name": "stdout",
     "output_type": "stream",
     "text": [
      "Collecting segmentation_models_pytorch\r\n",
      "  Obtaining dependency information for segmentation_models_pytorch from https://files.pythonhosted.org/packages/cb/70/4aac1b240b399b108ce58029ae54bc14497e1bbc275dfab8fd3c84c1e35d/segmentation_models_pytorch-0.3.3-py3-none-any.whl.metadata\r\n",
      "  Downloading segmentation_models_pytorch-0.3.3-py3-none-any.whl.metadata (30 kB)\r\n",
      "Requirement already satisfied: torchvision>=0.5.0 in /opt/conda/lib/python3.10/site-packages (from segmentation_models_pytorch) (0.15.1)\r\n",
      "Collecting pretrainedmodels==0.7.4 (from segmentation_models_pytorch)\r\n",
      "  Downloading pretrainedmodels-0.7.4.tar.gz (58 kB)\r\n",
      "\u001b[2K     \u001b[90m━━━━━━━━━━━━━━━━━━━━━━━━━━━━━━━━━━━━━━━━\u001b[0m \u001b[32m58.8/58.8 kB\u001b[0m \u001b[31m3.8 MB/s\u001b[0m eta \u001b[36m0:00:00\u001b[0m\r\n",
      "\u001b[?25h  Preparing metadata (setup.py) ... \u001b[?25l-\b \b\\\b \bdone\r\n",
      "\u001b[?25hCollecting efficientnet-pytorch==0.7.1 (from segmentation_models_pytorch)\r\n",
      "  Downloading efficientnet_pytorch-0.7.1.tar.gz (21 kB)\r\n",
      "  Preparing metadata (setup.py) ... \u001b[?25l-\b \bdone\r\n",
      "\u001b[?25hCollecting timm==0.9.2 (from segmentation_models_pytorch)\r\n",
      "  Obtaining dependency information for timm==0.9.2 from https://files.pythonhosted.org/packages/29/90/94f5deb8d76e24a89813aef95e8809ca8fd7414490428480eda19b133d4a/timm-0.9.2-py3-none-any.whl.metadata\r\n",
      "  Downloading timm-0.9.2-py3-none-any.whl.metadata (68 kB)\r\n",
      "\u001b[2K     \u001b[90m━━━━━━━━━━━━━━━━━━━━━━━━━━━━━━━━━━━━━━━━\u001b[0m \u001b[32m68.5/68.5 kB\u001b[0m \u001b[31m6.3 MB/s\u001b[0m eta \u001b[36m0:00:00\u001b[0m\r\n",
      "\u001b[?25hRequirement already satisfied: tqdm in /opt/conda/lib/python3.10/site-packages (from segmentation_models_pytorch) (4.66.1)\r\n",
      "Requirement already satisfied: pillow in /opt/conda/lib/python3.10/site-packages (from segmentation_models_pytorch) (10.1.0)\r\n",
      "Requirement already satisfied: torch in /opt/conda/lib/python3.10/site-packages (from efficientnet-pytorch==0.7.1->segmentation_models_pytorch) (2.0.0)\r\n",
      "Collecting munch (from pretrainedmodels==0.7.4->segmentation_models_pytorch)\r\n",
      "  Obtaining dependency information for munch from https://files.pythonhosted.org/packages/56/b3/7c69b37f03260a061883bec0e7b05be7117c1b1c85f5212c72c8c2bc3c8c/munch-4.0.0-py2.py3-none-any.whl.metadata\r\n",
      "  Downloading munch-4.0.0-py2.py3-none-any.whl.metadata (5.9 kB)\r\n",
      "Requirement already satisfied: pyyaml in /opt/conda/lib/python3.10/site-packages (from timm==0.9.2->segmentation_models_pytorch) (6.0.1)\r\n",
      "Requirement already satisfied: huggingface-hub in /opt/conda/lib/python3.10/site-packages (from timm==0.9.2->segmentation_models_pytorch) (0.17.3)\r\n",
      "Requirement already satisfied: safetensors in /opt/conda/lib/python3.10/site-packages (from timm==0.9.2->segmentation_models_pytorch) (0.4.0)\r\n",
      "Requirement already satisfied: numpy in /opt/conda/lib/python3.10/site-packages (from torchvision>=0.5.0->segmentation_models_pytorch) (1.24.3)\r\n",
      "Requirement already satisfied: requests in /opt/conda/lib/python3.10/site-packages (from torchvision>=0.5.0->segmentation_models_pytorch) (2.31.0)\r\n",
      "Requirement already satisfied: filelock in /opt/conda/lib/python3.10/site-packages (from torch->efficientnet-pytorch==0.7.1->segmentation_models_pytorch) (3.12.2)\r\n",
      "Requirement already satisfied: typing-extensions in /opt/conda/lib/python3.10/site-packages (from torch->efficientnet-pytorch==0.7.1->segmentation_models_pytorch) (4.5.0)\r\n",
      "Requirement already satisfied: sympy in /opt/conda/lib/python3.10/site-packages (from torch->efficientnet-pytorch==0.7.1->segmentation_models_pytorch) (1.12)\r\n",
      "Requirement already satisfied: networkx in /opt/conda/lib/python3.10/site-packages (from torch->efficientnet-pytorch==0.7.1->segmentation_models_pytorch) (3.1)\r\n",
      "Requirement already satisfied: jinja2 in /opt/conda/lib/python3.10/site-packages (from torch->efficientnet-pytorch==0.7.1->segmentation_models_pytorch) (3.1.2)\r\n",
      "Requirement already satisfied: fsspec in /opt/conda/lib/python3.10/site-packages (from huggingface-hub->timm==0.9.2->segmentation_models_pytorch) (2023.10.0)\r\n",
      "Requirement already satisfied: packaging>=20.9 in /opt/conda/lib/python3.10/site-packages (from huggingface-hub->timm==0.9.2->segmentation_models_pytorch) (21.3)\r\n",
      "Requirement already satisfied: charset-normalizer<4,>=2 in /opt/conda/lib/python3.10/site-packages (from requests->torchvision>=0.5.0->segmentation_models_pytorch) (3.2.0)\r\n",
      "Requirement already satisfied: idna<4,>=2.5 in /opt/conda/lib/python3.10/site-packages (from requests->torchvision>=0.5.0->segmentation_models_pytorch) (3.4)\r\n",
      "Requirement already satisfied: urllib3<3,>=1.21.1 in /opt/conda/lib/python3.10/site-packages (from requests->torchvision>=0.5.0->segmentation_models_pytorch) (1.26.15)\r\n",
      "Requirement already satisfied: certifi>=2017.4.17 in /opt/conda/lib/python3.10/site-packages (from requests->torchvision>=0.5.0->segmentation_models_pytorch) (2023.7.22)\r\n",
      "Requirement already satisfied: pyparsing!=3.0.5,>=2.0.2 in /opt/conda/lib/python3.10/site-packages (from packaging>=20.9->huggingface-hub->timm==0.9.2->segmentation_models_pytorch) (3.0.9)\r\n",
      "Requirement already satisfied: MarkupSafe>=2.0 in /opt/conda/lib/python3.10/site-packages (from jinja2->torch->efficientnet-pytorch==0.7.1->segmentation_models_pytorch) (2.1.3)\r\n",
      "Requirement already satisfied: mpmath>=0.19 in /opt/conda/lib/python3.10/site-packages (from sympy->torch->efficientnet-pytorch==0.7.1->segmentation_models_pytorch) (1.3.0)\r\n",
      "Downloading segmentation_models_pytorch-0.3.3-py3-none-any.whl (106 kB)\r\n",
      "\u001b[2K   \u001b[90m━━━━━━━━━━━━━━━━━━━━━━━━━━━━━━━━━━━━━━━━\u001b[0m \u001b[32m106.7/106.7 kB\u001b[0m \u001b[31m9.5 MB/s\u001b[0m eta \u001b[36m0:00:00\u001b[0m\r\n",
      "\u001b[?25hDownloading timm-0.9.2-py3-none-any.whl (2.2 MB)\r\n",
      "\u001b[2K   \u001b[90m━━━━━━━━━━━━━━━━━━━━━━━━━━━━━━━━━━━━━━━━\u001b[0m \u001b[32m2.2/2.2 MB\u001b[0m \u001b[31m50.1 MB/s\u001b[0m eta \u001b[36m0:00:00\u001b[0m\r\n",
      "\u001b[?25hDownloading munch-4.0.0-py2.py3-none-any.whl (9.9 kB)\r\n",
      "Building wheels for collected packages: efficientnet-pytorch, pretrainedmodels\r\n",
      "  Building wheel for efficientnet-pytorch (setup.py) ... \u001b[?25l-\b \bdone\r\n",
      "\u001b[?25h  Created wheel for efficientnet-pytorch: filename=efficientnet_pytorch-0.7.1-py3-none-any.whl size=16428 sha256=f6b426fe59c33862e55f334836eef51021b42606d997a9ee9ad125a79e0a64f7\r\n",
      "  Stored in directory: /root/.cache/pip/wheels/03/3f/e9/911b1bc46869644912bda90a56bcf7b960f20b5187feea3baf\r\n",
      "  Building wheel for pretrainedmodels (setup.py) ... \u001b[?25l-\b \b\\\b \b|\b \bdone\r\n",
      "\u001b[?25h  Created wheel for pretrainedmodels: filename=pretrainedmodels-0.7.4-py3-none-any.whl size=60943 sha256=7f36872b65a00522ed5c29f193b3b0e2d212c9c9f039445b023f9f0db28ed394\r\n",
      "  Stored in directory: /root/.cache/pip/wheels/35/cb/a5/8f534c60142835bfc889f9a482e4a67e0b817032d9c6883b64\r\n",
      "Successfully built efficientnet-pytorch pretrainedmodels\r\n",
      "Installing collected packages: munch, efficientnet-pytorch, timm, pretrainedmodels, segmentation_models_pytorch\r\n",
      "  Attempting uninstall: timm\r\n",
      "    Found existing installation: timm 0.9.10\r\n",
      "    Uninstalling timm-0.9.10:\r\n",
      "      Successfully uninstalled timm-0.9.10\r\n",
      "Successfully installed efficientnet-pytorch-0.7.1 munch-4.0.0 pretrainedmodels-0.7.4 segmentation_models_pytorch-0.3.3 timm-0.9.2\r\n"
     ]
    }
   ],
   "source": [
    "#!mkdir -p /root/.cache/torch/hub/checkpoints/\n",
    "#!cp /kaggle/input/se-net-pretrained-imagenet-weights/* /root/.cache/torch/hub/checkpoints/\n",
    "import torch as torch \n",
    "import torch.nn as nn  \n",
    "import numpy as np\n",
    "from tqdm import tqdm\n",
    "import os,sys,cv2\n",
    "from torch.cuda.amp import autocast\n",
    "import matplotlib.pyplot as plt\n",
    "import albumentations as aug\n",
    "!pip install segmentation_models_pytorch\n",
    "import segmentation_models_pytorch as smp\n",
    "from albumentations.pytorch import ToTensorV2\n",
    "from torch.utils.data import Dataset, DataLoader\n",
    "from torch.nn.parallel import DataParallel\n",
    "from glob import glob"
   ]
  },
  {
   "cell_type": "markdown",
   "id": "de167c7e",
   "metadata": {
    "papermill": {
     "duration": 0.007812,
     "end_time": "2024-04-07T23:10:10.505684",
     "exception": false,
     "start_time": "2024-04-07T23:10:10.497872",
     "status": "completed"
    },
    "tags": []
   },
   "source": [
    "# Config"
   ]
  },
  {
   "cell_type": "code",
   "execution_count": 3,
   "id": "04007492",
   "metadata": {
    "execution": {
     "iopub.execute_input": "2024-04-07T23:10:10.523262Z",
     "iopub.status.busy": "2024-04-07T23:10:10.522953Z",
     "iopub.status.idle": "2024-04-07T23:10:10.531881Z",
     "shell.execute_reply": "2024-04-07T23:10:10.531083Z"
    },
    "papermill": {
     "duration": 0.019846,
     "end_time": "2024-04-07T23:10:10.533782",
     "exception": false,
     "start_time": "2024-04-07T23:10:10.513936",
     "status": "completed"
    },
    "tags": []
   },
   "outputs": [],
   "source": [
    "#percentage of augmentation\n",
    "p_augment = 0.05 \n",
    "class config:\n",
    "    #use the SE-ResNeXt backbone \n",
    "    backbone = 'se_resnext50_32x4d'\n",
    "    # prediction target size\n",
    "    target_size = 1\n",
    "    in_chans = 1  \n",
    "    #img and input sizes\n",
    "    image_size = 1024 \n",
    "    input_size = 1024 \n",
    "\n",
    "    train_batch_size = 1 \n",
    "    valid_batch_size = 2\n",
    "\n",
    "    epochs = 40\n",
    "    #learning rate\n",
    "    lr = 8e-5\n",
    "    # fold\n",
    "    valid_id = 1\n",
    "    # training augmentations\n",
    "    train_aug_list = [\n",
    "        aug.Rotate(limit=270, p= 0.5),\n",
    "        aug.RandomScale(scale_limit=(0.8,1.25),interpolation=cv2.INTER_CUBIC,p=p_augment),\n",
    "        aug.RandomCrop(input_size, input_size,p=1),\n",
    "        aug.RandomGamma(p=p_augment*2/3),\n",
    "        aug.RandomBrightnessContrast(p=p_augment,),\n",
    "        aug.GaussianBlur(p=p_augment),\n",
    "        aug.MotionBlur(p=p_augment),\n",
    "        aug.GridDistortion(num_steps=5, distort_limit=0.3, p=p_augment),\n",
    "        ToTensorV2(transpose_mask=True),\n",
    "    ]\n",
    "    train_aug = aug.Compose(train_aug_list)\n",
    "    valid_aug_list = [\n",
    "        ToTensorV2(transpose_mask=True),\n",
    "    ]\n",
    "    valid_aug = aug.Compose(valid_aug_list)"
   ]
  },
  {
   "cell_type": "markdown",
   "id": "09a7d914",
   "metadata": {
    "papermill": {
     "duration": 0.007831,
     "end_time": "2024-04-07T23:10:10.549590",
     "exception": false,
     "start_time": "2024-04-07T23:10:10.541759",
     "status": "completed"
    },
    "tags": []
   },
   "source": [
    "# Model"
   ]
  },
  {
   "cell_type": "code",
   "execution_count": 4,
   "id": "393024fd",
   "metadata": {
    "execution": {
     "iopub.execute_input": "2024-04-07T23:10:10.566594Z",
     "iopub.status.busy": "2024-04-07T23:10:10.566352Z",
     "iopub.status.idle": "2024-04-07T23:10:10.572680Z",
     "shell.execute_reply": "2024-04-07T23:10:10.571797Z"
    },
    "papermill": {
     "duration": 0.016947,
     "end_time": "2024-04-07T23:10:10.574578",
     "exception": false,
     "start_time": "2024-04-07T23:10:10.557631",
     "status": "completed"
    },
    "tags": []
   },
   "outputs": [],
   "source": [
    "#define our model, FPN \n",
    "class CustomModel(nn.Module):\n",
    "    def __init__(self, config, weight=None):\n",
    "        super().__init__()\n",
    "        self.model = smp.FPN(encoder_name='se_resnext50_32x4d',in_channels=config.in_chans,classes=config.target_size,activation=None,)\n",
    "    def forward(self, image):\n",
    "        output = self.model(image)\n",
    "        # output = output.squeeze(-1)\n",
    "        return output[:,0]#.sigmoid()\n",
    "\n",
    "def build_model(weight=\"imagenet\"):\n",
    "    #load_dotenv()\n",
    "    #print('model_name', config.model_name)\n",
    "    print('backbone', config.backbone)\n",
    "    model = CustomModel(config, weight)\n",
    "    return model.cuda()"
   ]
  },
  {
   "cell_type": "markdown",
   "id": "b46be81f",
   "metadata": {
    "papermill": {
     "duration": 0.007845,
     "end_time": "2024-04-07T23:10:10.590388",
     "exception": false,
     "start_time": "2024-04-07T23:10:10.582543",
     "status": "completed"
    },
    "tags": []
   },
   "source": [
    "# Resizing"
   ]
  },
  {
   "cell_type": "code",
   "execution_count": 5,
   "id": "f1b48e66",
   "metadata": {
    "execution": {
     "iopub.execute_input": "2024-04-07T23:10:10.607464Z",
     "iopub.status.busy": "2024-04-07T23:10:10.607205Z",
     "iopub.status.idle": "2024-04-07T23:10:10.613077Z",
     "shell.execute_reply": "2024-04-07T23:10:10.612200Z"
    },
    "papermill": {
     "duration": 0.016548,
     "end_time": "2024-04-07T23:10:10.615007",
     "exception": false,
     "start_time": "2024-04-07T23:10:10.598459",
     "status": "completed"
    },
    "tags": []
   },
   "outputs": [],
   "source": [
    "def resize(img, image_size=1024):\n",
    "    height, width = img.shape[:2]\n",
    "    \n",
    "    # if the image dimensions already equal/larger than the target size, return the original image\n",
    "    if height >= image_size and width >= image_size:\n",
    "        return img\n",
    "    \n",
    "    #padding sizes\n",
    "    pad_height = (image_size - height) // 2 if height < image_size else 0\n",
    "    pad_width = (image_size - width) // 2 if width < image_size else 0\n",
    "    \n",
    "    # add padding to the image to match target size\n",
    "    img_result = np.pad(img, ((pad_height, pad_height), (pad_width, pad_width)), 'constant', constant_values=0)\n",
    "    \n",
    "    # for odd dimensions trim extra pixel from the bottom/right side \n",
    "    img_result = img_result[:image_size, :image_size]\n",
    "    \n",
    "    return img_result"
   ]
  },
  {
   "cell_type": "markdown",
   "id": "c64062f7",
   "metadata": {
    "papermill": {
     "duration": 0.00774,
     "end_time": "2024-04-07T23:10:10.630778",
     "exception": false,
     "start_time": "2024-04-07T23:10:10.623038",
     "status": "completed"
    },
    "tags": []
   },
   "source": [
    "# Functions"
   ]
  },
  {
   "cell_type": "code",
   "execution_count": 6,
   "id": "56295576",
   "metadata": {
    "execution": {
     "iopub.execute_input": "2024-04-07T23:10:10.648203Z",
     "iopub.status.busy": "2024-04-07T23:10:10.647902Z",
     "iopub.status.idle": "2024-04-07T23:10:10.677671Z",
     "shell.execute_reply": "2024-04-07T23:10:10.676913Z"
    },
    "papermill": {
     "duration": 0.040811,
     "end_time": "2024-04-07T23:10:10.679609",
     "exception": false,
     "start_time": "2024-04-07T23:10:10.638798",
     "status": "completed"
    },
    "tags": []
   },
   "outputs": [],
   "source": [
    "def min_max_normalization(x):\n",
    "    \"\"\"Normalize a tensor to [0, 1] across the last dimension.\n",
    "\n",
    "    Args:\n",
    "        x (torch.Tensor): Input tensor with shape (batch, f1, ...).\n",
    "\n",
    "    Returns:\n",
    "        torch.Tensor: Normalized tensor.\n",
    "    \"\"\"\n",
    "    original_shape = x.shape  #original shape for reshaping later\n",
    "    if x.ndim > 2:\n",
    "        x = x.reshape(x.shape[0], -1)  # flatten the tensor while keeping the batch dimension\n",
    "    \n",
    "    minval = x.min(dim=-1, keepdim=True).values\n",
    "    maxval = x.max(dim=-1, keepdim=True).values\n",
    "\n",
    "    #prevent division by zero via small epsilon and normalize\n",
    "    x = (x - minval) / (maxval - minval + 1e-9)\n",
    "    return x.reshape(original_shape)\n",
    "\n",
    "def norm_and_clip(x, smooth = 1e-5):\n",
    "    \"\"\"Standardize a tensor to have mean=0 and std=1, with clipping.\n",
    "\n",
    "    Args:\n",
    "        x (torch.Tensor): Input tensor.\n",
    "        smooth (float): Smoothing term to avoid division by zero.\n",
    "\n",
    "    Returns:\n",
    "        torch.Tensor: Standardized tensor.\n",
    "    \"\"\"\n",
    "    dim = list(range(1, x.ndim))  # dimensions over which to compute the mean and std\n",
    "    mean = x.mean(dim=dim, keepdim=True)\n",
    "    std = x.std(dim=dim, keepdim=True)\n",
    "\n",
    "    return (x - mean) / (std + smooth)\n",
    "\n",
    "#define data loader class\n",
    "class Data_loader(Dataset):\n",
    "     \n",
    "    def __init__(self,paths,is_label):\n",
    "        self.paths=paths\n",
    "        self.paths.sort()\n",
    "        self.is_label=is_label\n",
    "    \n",
    "    def __len__(self):\n",
    "        return len(self.paths)\n",
    "    \n",
    "    def __getitem__(self,index):\n",
    "         \n",
    "        img = cv2.imread(self.paths[index],cv2.IMREAD_GRAYSCALE)\n",
    "        \n",
    "        img = resize(img , image_size = config.image_size )\n",
    "\n",
    "        img = torch.from_numpy(img.copy())\n",
    "        if self.is_label:\n",
    "            img=(img!=0).to(torch.uint8)*255\n",
    "        else:\n",
    "            img=img.to(torch.uint8)\n",
    "        return img\n",
    "\n",
    "def load_data(paths,is_label=False):\n",
    "    data_loader=Data_loader(paths,is_label)\n",
    "    data_loader=DataLoader(data_loader, batch_size=16, num_workers=2)  \n",
    "    data=[]\n",
    "    for x in tqdm(data_loader):\n",
    "        data.append(x)\n",
    "    x=torch.cat(data,dim=0)\n",
    "    del data\n",
    "    if not is_label:\n",
    "        x=(min_max_normalization(x.to(torch.float16)[None])[0]*255).to(torch.uint8)\n",
    "    return x\n",
    "\n",
    "def dice_coef(y_pred, y_true, thr=0.5, dim=(-1,-2), epsilon=0.001):\n",
    "    y_pred=y_pred.sigmoid()\n",
    "    y_true = y_true.to(torch.float32)\n",
    "    y_pred = (y_pred>thr).to(torch.float32)\n",
    "    inter = (y_true*y_pred).sum(dim=dim)\n",
    "    den = y_true.sum(dim=dim) + y_pred.sum(dim=dim)\n",
    "    dice = ((2*inter+epsilon)/(den+epsilon)).mean()\n",
    "    return dice\n",
    "\n",
    "class DiceLoss(nn.Module):\n",
    "    def __init__(self, weight=None, size_average=True):\n",
    "        super(DiceLoss, self).__init__()\n",
    "\n",
    "    def forward(self, inputs, targets, smooth=1):\n",
    "        \n",
    "        #comment out if your model contains a sigmoid or equivalent activation layer\n",
    "        inputs = inputs.sigmoid()   \n",
    "        \n",
    "        #flatten label and prediction tensors\n",
    "        inputs = inputs.view(-1)\n",
    "        targets = targets.view(-1)\n",
    "        \n",
    "        intersection = (inputs * targets).sum()                            \n",
    "        dice = (2.*intersection + smooth)/(inputs.sum() + targets.sum() + smooth)  \n",
    "        \n",
    "        return 1 - dice\n",
    "    \n",
    "class FocalLoss(nn.Module):\n",
    "    def __init__(self, alpha=0.25, gamma=2.0):\n",
    "        super(FocalLoss, self).__init__()\n",
    "        self.alpha = alpha\n",
    "        self.gamma = gamma\n",
    "\n",
    "    def forward(self, inputs, targets):\n",
    "        BCE_loss = nn.functional.binary_cross_entropy_with_logits(inputs, targets, reduction='none')\n",
    "        pt = torch.exp(-BCE_loss)  # pt is the probability of being classified as the target class\n",
    "        F_loss = self.alpha * (1-pt)**self.gamma * BCE_loss\n",
    "        return F_loss.mean()\n",
    "\n",
    "class Custom_Dataset(Dataset):\n",
    "    def __init__(self,x,y,arg=False):\n",
    "        super(Dataset,self).__init__()\n",
    "        self.x=x\n",
    "        self.y=y\n",
    "        self.image_size=config.image_size\n",
    "        self.in_chans=config.in_chans\n",
    "        self.arg=arg\n",
    "        if arg:\n",
    "            self.transform=config.train_aug\n",
    "        else: \n",
    "            self.transform=config.valid_aug\n",
    "\n",
    "    def __len__(self) -> int:\n",
    "        # calculate the total number of samples\n",
    "        return sum([y.shape[0] - self.in_chans for y in self.y])\n",
    "    \n",
    "    def __getitem__(self,index):\n",
    "        # Determine which set of x,y the current index falls into\n",
    "        i = 0\n",
    "        for x in self.x:\n",
    "            if index > x.shape[0] - self.in_chans:\n",
    "                index -= x.shape[0] - self.in_chans\n",
    "                i += 1\n",
    "            else:\n",
    "                break\n",
    "        x = self.x[i]\n",
    "        y = self.y[i]\n",
    "        \n",
    "        # central crop calculation \n",
    "        x_index = (x.shape[1] - self.image_size) // 2\n",
    "        y_index = (x.shape[2] - self.image_size) // 2\n",
    "        \n",
    "        # taking the relevant crop from the image and the mask\n",
    "        x = x[index:index + self.in_chans, x_index:x_index + self.image_size, y_index:y_index + self.image_size]\n",
    "        y = y[index + self.in_chans // 2, x_index:x_index + self.image_size, y_index:y_index + self.image_size]\n",
    "\n",
    "        # apply transfs\n",
    "        data = self.transform(image=x.numpy().transpose(1,2,0), mask=y.numpy())\n",
    "        x = data['image']\n",
    "        y = data['mask'] >= 127  # binarize mask based on threshold\n",
    "        \n",
    "        # apply augmentation\n",
    "        if self.arg:\n",
    "            i = np.random.randint(4)\n",
    "            x = x.rot90(i, dims=(1,2))\n",
    "            y = y.rot90(i, dims=(0,1))\n",
    "            for i in range(3):\n",
    "                if np.random.randint(2):\n",
    "                    x = x.flip(dims=(i,))\n",
    "                    if i >= 1:\n",
    "                        y = y.flip(dims=(i-1,))\n",
    "        return x, y"
   ]
  },
  {
   "cell_type": "markdown",
   "id": "1088313c",
   "metadata": {
    "papermill": {
     "duration": 0.008168,
     "end_time": "2024-04-07T23:10:10.695833",
     "exception": false,
     "start_time": "2024-04-07T23:10:10.687665",
     "status": "completed"
    },
    "tags": []
   },
   "source": [
    "# Load data "
   ]
  },
  {
   "cell_type": "code",
   "execution_count": 7,
   "id": "0d3163ac",
   "metadata": {
    "execution": {
     "iopub.execute_input": "2024-04-07T23:10:10.713713Z",
     "iopub.status.busy": "2024-04-07T23:10:10.713011Z",
     "iopub.status.idle": "2024-04-07T23:12:51.593864Z",
     "shell.execute_reply": "2024-04-07T23:12:51.592463Z"
    },
    "papermill": {
     "duration": 160.892479,
     "end_time": "2024-04-07T23:12:51.596351",
     "exception": false,
     "start_time": "2024-04-07T23:10:10.703872",
     "status": "completed"
    },
    "tags": []
   },
   "outputs": [
    {
     "name": "stderr",
     "output_type": "stream",
     "text": [
      "100%|██████████| 143/143 [00:45<00:00,  3.14it/s]\n"
     ]
    },
    {
     "name": "stdout",
     "output_type": "stream",
     "text": [
      "torch.Size([2279, 1024, 1024])\n"
     ]
    },
    {
     "name": "stderr",
     "output_type": "stream",
     "text": [
      "100%|██████████| 143/143 [00:24<00:00,  5.95it/s]\n"
     ]
    },
    {
     "name": "stdout",
     "output_type": "stream",
     "text": [
      "torch.Size([2279, 1024, 1024])\n"
     ]
    },
    {
     "name": "stderr",
     "output_type": "stream",
     "text": [
      "100%|██████████| 32/32 [00:19<00:00,  1.66it/s]\n"
     ]
    },
    {
     "name": "stdout",
     "output_type": "stream",
     "text": [
      "torch.Size([501, 1706, 1510])\n"
     ]
    },
    {
     "name": "stderr",
     "output_type": "stream",
     "text": [
      "100%|██████████| 32/32 [00:09<00:00,  3.45it/s]\n"
     ]
    },
    {
     "name": "stdout",
     "output_type": "stream",
     "text": [
      "torch.Size([501, 1706, 1510])\n"
     ]
    }
   ],
   "source": [
    "train_x=[]\n",
    "train_y=[]\n",
    "\n",
    "root_path=\"/kaggle/input/blood-vessel-segmentation/\"\n",
    "paths=[\"/kaggle/input/blood-vessel-segmentation/train/kidney_1_dense\"]\n",
    "for i,path in enumerate(paths):\n",
    "    if path==\"/kaggle/input/blood-vessel-segmentation/train/kidney_3_dense\":\n",
    "        continue\n",
    "    x=load_data(glob(f\"{path}/images/*\"),is_label=False)\n",
    "    print(x.shape)\n",
    "    y=load_data(glob(f\"{path}/labels/*\"),is_label=True)\n",
    "    print(y.shape)\n",
    "    train_x.append(x)\n",
    "    train_y.append(y)\n",
    "\n",
    "    #(C,H,W)\n",
    "    #aug\n",
    "    train_x.append(x.permute(1,2,0))\n",
    "    train_y.append(y.permute(1,2,0))\n",
    "    train_x.append(x.permute(2,0,1))\n",
    "    train_y.append(y.permute(2,0,1))\n",
    "path2=\"/kaggle/input/blood-vessel-segmentation/train/kidney_3_dense\"\n",
    "paths_y=glob(f\"{path2}/labels/*\")\n",
    "paths_x=[x.replace(\"labels\",\"images\").replace(\"dense\",\"sparse\") for x in paths_y]\n",
    "\n",
    "val_x=load_data(paths_x,is_label=False)\n",
    "print(val_x.shape)\n",
    "val_y=load_data(paths_y,is_label=True)\n",
    "print(val_y.shape)"
   ]
  },
  {
   "cell_type": "markdown",
   "id": "da8949b3",
   "metadata": {
    "papermill": {
     "duration": 0.031708,
     "end_time": "2024-04-07T23:12:51.661018",
     "exception": false,
     "start_time": "2024-04-07T23:12:51.629310",
     "status": "completed"
    },
    "tags": []
   },
   "source": [
    "# Training"
   ]
  },
  {
   "cell_type": "code",
   "execution_count": 8,
   "id": "32d3ac46",
   "metadata": {
    "execution": {
     "iopub.execute_input": "2024-04-07T23:12:51.726161Z",
     "iopub.status.busy": "2024-04-07T23:12:51.725749Z",
     "iopub.status.idle": "2024-04-07T23:18:04.266976Z",
     "shell.execute_reply": "2024-04-07T23:18:04.265799Z"
    },
    "papermill": {
     "duration": 312.577213,
     "end_time": "2024-04-07T23:18:04.269796",
     "exception": false,
     "start_time": "2024-04-07T23:12:51.692583",
     "status": "completed"
    },
    "tags": []
   },
   "outputs": [
    {
     "name": "stdout",
     "output_type": "stream",
     "text": [
      "backbone se_resnext50_32x4d\n"
     ]
    },
    {
     "name": "stderr",
     "output_type": "stream",
     "text": [
      "Downloading: \"http://data.lip6.fr/cadene/pretrainedmodels/se_resnext50_32x4d-a260b3a4.pth\" to /root/.cache/torch/hub/checkpoints/se_resnext50_32x4d-a260b3a4.pth\n",
      "100%|██████████| 105M/105M [05:10<00:00, 356kB/s]\n"
     ]
    }
   ],
   "source": [
    "torch.backends.cudnn.enabled = True\n",
    "torch.backends.cudnn.benchmark = True\n",
    "\n",
    "# initialize datasets and data loaders\n",
    "train_dataset = Custom_Dataset(train_x, train_y, arg=True)\n",
    "train_loader = DataLoader(train_dataset, batch_size=config.train_batch_size, num_workers=2, shuffle=True, pin_memory=True)\n",
    "val_dataset = Custom_Dataset([val_x], [val_y])\n",
    "val_loader = DataLoader(val_dataset, batch_size=config.valid_batch_size, num_workers=2, shuffle=False, pin_memory=True)\n",
    "\n",
    "# model, loss fn, optimizer, and scheduler setup\n",
    "model = DataParallel(build_model()).cuda()\n",
    "loss_function = DiceLoss()\n",
    "optimizer = torch.optim.AdamW(model.parameters(), lr=config.lr)\n",
    "scaler = torch.cuda.amp.GradScaler()\n",
    "scheduler = torch.optim.lr_scheduler.OneCycleLR(optimizer, max_lr=config.lr, steps_per_epoch=len(train_loader), epochs=config.epochs + 1, pct_start=0.1)\n",
    "\n",
    "#training routine for an epoch\n",
    "def train_epoch(loader, model, loss_function, optimizer, scaler, scheduler, is_train=True):\n",
    "    if is_train:\n",
    "        model.train()\n",
    "    else:\n",
    "        model.eval()\n",
    "\n",
    "    losses = []\n",
    "    scores = []\n",
    "\n",
    "    progress_bar = tqdm(loader, desc=\"processing\", leave=True)\n",
    "    for x, y in progress_bar:\n",
    "        x, y = x.cuda().float(), y.cuda().float()\n",
    "        x = norm_and_clip(x.reshape(-1, *x.shape[2:])).reshape(x.shape)\n",
    "\n",
    "        with autocast():\n",
    "            pred = model(x)\n",
    "            loss = loss_function(pred, y)\n",
    "\n",
    "        if is_train:\n",
    "            scaler.scale(loss).backward()\n",
    "            scaler.step(optimizer)\n",
    "            scaler.update()\n",
    "            optimizer.zero_grad()\n",
    "            scheduler.step()\n",
    "\n",
    "        score = dice_coef(pred.detach(), y)\n",
    "        losses.append(loss.item())\n",
    "        scores.append(score.item())\n",
    "\n",
    "        progress_bar.set_description(f\"Loss: {np.mean(losses):.4f}, Score: {np.mean(scores):.4f}\")\n",
    "    \n",
    "    return np.mean(losses), np.mean(scores)\n",
    "#train for all epochs\n",
    "def train1():\n",
    "    for epoch in range(2):\n",
    "        train_loss, train_score = train_epoch(train_loader, model, loss_function, optimizer, scaler, scheduler, is_train=True)\n",
    "        val_loss, val_score = train_epoch(val_loader, model, loss_function, optimizer, scaler, scheduler, is_train=False)\n",
    "        \n",
    "        print(f\"Epoch {epoch}: Train Loss {train_loss:.4f}, Train Score {train_score:.4f}, Val Loss {val_loss:.4f}, Val Score {val_score:.4f}\")\n",
    "\n",
    "    torch.save(model.module.state_dict(), f\"./{config.backbone}_{epoch}_train_loss{train_loss:.2f}_train_score{train_score:.2f}_val_loss{val_loss:.2f}_val_score{val_score:.2f}.pt\")"
   ]
  },
  {
   "cell_type": "code",
   "execution_count": 9,
   "id": "23f68425",
   "metadata": {
    "execution": {
     "iopub.execute_input": "2024-04-07T23:18:04.610393Z",
     "iopub.status.busy": "2024-04-07T23:18:04.609964Z",
     "iopub.status.idle": "2024-04-07T23:18:05.039883Z",
     "shell.execute_reply": "2024-04-07T23:18:05.038978Z"
    },
    "papermill": {
     "duration": 0.589982,
     "end_time": "2024-04-07T23:18:05.042670",
     "exception": false,
     "start_time": "2024-04-07T23:18:04.452688",
     "status": "completed"
    },
    "tags": []
   },
   "outputs": [
    {
     "name": "stdout",
     "output_type": "stream",
     "text": [
      "backbone se_resnext50_32x4d\n"
     ]
    }
   ],
   "source": [
    "torch.backends.cudnn.enabled = True\n",
    "torch.backends.cudnn.benchmark = True\n",
    "    \n",
    "train_dataset=Custom_Dataset(train_x,train_y,arg=True)\n",
    "train_dataset = DataLoader(train_dataset, batch_size=config.train_batch_size ,num_workers=2, shuffle=True, pin_memory=True)\n",
    "val_dataset=Custom_Dataset([val_x],[val_y])\n",
    "val_dataset = DataLoader(val_dataset, batch_size=config.valid_batch_size, num_workers=2, shuffle=False, pin_memory=True)\n",
    "\n",
    "model=build_model()\n",
    "model=DataParallel(model)\n",
    "\n",
    "loss_fc=DiceLoss()\n",
    "#use AdamW optimizer which is extension of Adam optimizer with weight decay, better for generalization \n",
    "optimizer=torch.optim.AdamW(model.parameters(),lr=config.lr)\n",
    "scaler=torch.cuda.amp.GradScaler()\n",
    "#one cycle learning rate schedule. Cyclical lr helps model improve accuracy in fewer steps\n",
    "scheduler = torch.optim.lr_scheduler.OneCycleLR(optimizer, max_lr=config.lr,\n",
    "                                                steps_per_epoch=len(train_dataset), epochs=config.epochs+1,\n",
    "                                                pct_start=0.1,)\n",
    "def train():\n",
    "    for epoch in range(config.epochs):\n",
    "        model.train()\n",
    "        time=tqdm(range(len(train_dataset)))\n",
    "        #init losses and scores\n",
    "        losses=0\n",
    "        scores=0\n",
    "        #iterate through train set \n",
    "        for i,(x,y) in enumerate(train_dataset):\n",
    "            x=x.cuda().to(torch.float32)\n",
    "            y=y.cuda().to(torch.float32)\n",
    "            #norm and clip (prevent NaN gradients)\n",
    "            x=norm_and_clip(x.reshape(-1,*x.shape[2:])).reshape(x.shape)\n",
    "            with autocast():\n",
    "                pred=model(x)\n",
    "                loss=loss_fc(pred,y)\n",
    "            scaler.scale(loss).backward()\n",
    "            scaler.step(optimizer)\n",
    "            scaler.update()\n",
    "            optimizer.zero_grad()\n",
    "            scheduler.step()\n",
    "            score=dice_coef(pred.detach(),y)\n",
    "            losses=(losses*i+loss.item())/(i+1)\n",
    "            scores=(scores*i+score)/(i+1)\n",
    "            time.set_description(f\"epoch number:{epoch},loss:{losses:.4f},score:{scores:.4f},lr{optimizer.param_groups[0]['lr']:.4e}\")\n",
    "            time.update()\n",
    "            del loss,pred\n",
    "        time.close()\n",
    "\n",
    "        model.eval()\n",
    "        time=tqdm(range(len(val_dataset)))\n",
    "        val_losses=0\n",
    "        val_scores=0\n",
    "        for i,(x,y) in enumerate(val_dataset):\n",
    "            x=x.cuda().to(torch.float32)\n",
    "            y=y.cuda().to(torch.float32)\n",
    "            x=norm_and_clip(x.reshape(-1,*x.shape[2:])).reshape(x.shape)\n",
    "\n",
    "            with autocast():\n",
    "                with torch.no_grad():\n",
    "                    pred=model(x)\n",
    "                    loss=loss_fc(pred,y)\n",
    "            score=dice_coef(pred.detach(),y)\n",
    "            val_losses=(val_losses*i+loss.item())/(i+1)\n",
    "            val_scores=(val_scores*i+score)/(i+1)\n",
    "            time.set_description(f\"val-->loss:{val_losses:.4f},score:{val_scores:.4f}\")\n",
    "            time.update()\n",
    "\n",
    "        time.close()\n",
    "    torch.save(model.module.state_dict(), f\"./FPN_epochs{config.epochs}_val_acc{val_scores:.2f}.pt\")\n",
    "\n",
    "    time.close()"
   ]
  },
  {
   "cell_type": "code",
   "execution_count": 10,
   "id": "8129cba1",
   "metadata": {
    "execution": {
     "iopub.execute_input": "2024-04-07T23:18:05.354369Z",
     "iopub.status.busy": "2024-04-07T23:18:05.354001Z",
     "iopub.status.idle": "2024-04-07T23:18:06.130526Z",
     "shell.execute_reply": "2024-04-07T23:18:06.129472Z"
    },
    "papermill": {
     "duration": 0.930484,
     "end_time": "2024-04-07T23:18:06.133362",
     "exception": false,
     "start_time": "2024-04-07T23:18:05.202878",
     "status": "completed"
    },
    "tags": []
   },
   "outputs": [
    {
     "data": {
      "image/png": "[encoded data removed]",
      "text/plain": [
       "<Figure size 1000x500 with 2 Axes>"
      ]
     },
     "metadata": {},
     "output_type": "display_data"
    }
   ],
   "source": [
    "#visualize\n",
    "import matplotlib.pyplot as plt\n",
    "\n",
    "# Access the first element from your DataLoader\n",
    "sample_image, sample_label = next(iter(train_dataset))\n",
    "\n",
    "# Plot the image and its corresponding label\n",
    "plt.figure(figsize=(10, 5))\n",
    "\n",
    "# Plot the image\n",
    "plt.subplot(1, 2, 1)\n",
    "plt.imshow(sample_image.squeeze(), cmap='gray')  # Assuming the image is grayscale\n",
    "plt.title('Sample Image')\n",
    "plt.axis('off')\n",
    "\n",
    "# Plot the label\n",
    "plt.subplot(1, 2, 2)\n",
    "plt.imshow(sample_label.squeeze(), cmap='gray')  # Assuming the label is grayscale\n",
    "plt.title('Sample Label')\n",
    "plt.axis('off')\n",
    "\n",
    "plt.show()"
   ]
  },
  {
   "cell_type": "code",
   "execution_count": 11,
   "id": "1ef45ebd",
   "metadata": {
    "execution": {
     "iopub.execute_input": "2024-04-07T23:18:06.433989Z",
     "iopub.status.busy": "2024-04-07T23:18:06.433389Z",
     "iopub.status.idle": "2024-04-07T23:43:11.862314Z",
     "shell.execute_reply": "2024-04-07T23:43:11.861467Z"
    },
    "papermill": {
     "duration": 1505.580683,
     "end_time": "2024-04-07T23:43:11.864483",
     "exception": false,
     "start_time": "2024-04-07T23:18:06.283800",
     "status": "completed"
    },
    "tags": []
   },
   "outputs": [
    {
     "name": "stderr",
     "output_type": "stream",
     "text": [
      "Loss: 0.5165, Score: 0.5364: 100%|██████████| 4324/4324 [12:13<00:00,  5.90it/s]\n",
      "Loss: 0.5576, Score: 0.4847: 100%|██████████| 250/250 [00:23<00:00, 10.56it/s]\n"
     ]
    },
    {
     "name": "stdout",
     "output_type": "stream",
     "text": [
      "Epoch 0: Train Loss 0.5165, Train Score 0.5364, Val Loss 0.5576, Val Score 0.4847\n"
     ]
    },
    {
     "name": "stderr",
     "output_type": "stream",
     "text": [
      "Loss: 0.2862, Score: 0.7291: 100%|██████████| 4324/4324 [12:06<00:00,  5.95it/s]\n",
      "Loss: 0.2749, Score: 0.7490: 100%|██████████| 250/250 [00:21<00:00, 11.68it/s]\n"
     ]
    },
    {
     "name": "stdout",
     "output_type": "stream",
     "text": [
      "Epoch 1: Train Loss 0.2862, Train Score 0.7291, Val Loss 0.2749, Val Score 0.7490\n"
     ]
    }
   ],
   "source": [
    "train1()"
   ]
  },
  {
   "cell_type": "code",
   "execution_count": null,
   "id": "44025bb2",
   "metadata": {
    "papermill": {
     "duration": 1.667597,
     "end_time": "2024-04-07T23:43:15.179003",
     "exception": false,
     "start_time": "2024-04-07T23:43:13.511406",
     "status": "completed"
    },
    "tags": []
   },
   "outputs": [],
   "source": []
  }
 ],
 "metadata": {
  "kaggle": {
   "accelerator": "nvidiaTeslaT4",
   "dataSources": [
    {
     "databundleVersionId": 6962461,
     "sourceId": 61446,
     "sourceType": "competition"
    },
    {
     "datasetId": 1074109,
     "sourceId": 1807973,
     "sourceType": "datasetVersion"
    }
   ],
   "dockerImageVersionId": 30588,
   "isGpuEnabled": true,
   "isInternetEnabled": true,
   "language": "python",
   "sourceType": "notebook"
  },
  "kernelspec": {
   "display_name": "Python 3",
   "language": "python",
   "name": "python3"
  },
  "language_info": {
   "codemirror_mode": {
    "name": "ipython",
    "version": 3
   },
   "file_extension": ".py",
   "mimetype": "text/x-python",
   "name": "python",
   "nbconvert_exporter": "python",
   "pygments_lexer": "ipython3",
   "version": "3.10.12"
  },
  "papermill": {
   "default_parameters": {},
   "duration": 2022.293717,
   "end_time": "2024-04-07T23:43:20.017182",
   "environment_variables": {},
   "exception": null,
   "input_path": "__notebook__.ipynb",
   "output_path": "__notebook__.ipynb",
   "parameters": {},
   "start_time": "2024-04-07T23:09:37.723465",
   "version": "2.4.0"
  }
 },
 "nbformat": 4,
 "nbformat_minor": 5
}
